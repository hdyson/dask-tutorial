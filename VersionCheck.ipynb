{
 "cells": [
  {
   "cell_type": "markdown",
   "id": "incorrect-lyric",
   "metadata": {},
   "source": [
    "Note: pillow, pytables, scikit-image and python-graphviz are imported as PIL, tables, skimage and graphviz.  Python-graphviz is optional."
   ]
  },
  {
   "cell_type": "code",
   "execution_count": 1,
   "id": "outer-hopkins",
   "metadata": {},
   "outputs": [],
   "source": [
    "requirements = [\"numpy\", \"pandas\", \"h5py\", \"PIL\", \"matplotlib\", \"scipy\", \"toolz\", \"tables\", \"snakeviz\", \"skimage\", \"dask\", \"distributed\", \"graphviz\"]"
   ]
  },
  {
   "cell_type": "code",
   "execution_count": 2,
   "id": "focused-registration",
   "metadata": {},
   "outputs": [],
   "source": [
    "import importlib\n",
    "for requirement in requirements:\n",
    "    try:\n",
    "        importlib.import_module(requirement)\n",
    "    except ImportError:\n",
    "        print(f'requirement: {requirement} not installed')\n",
    "        "
   ]
  },
  {
   "cell_type": "code",
   "execution_count": 3,
   "id": "disabled-committee",
   "metadata": {},
   "outputs": [
    {
     "name": "stdout",
     "output_type": "stream",
     "text": [
      "2021.06.2\n"
     ]
    }
   ],
   "source": [
    "import dask\n",
    "print(dask.__version__)"
   ]
  },
  {
   "cell_type": "code",
   "execution_count": null,
   "id": "dynamic-picnic",
   "metadata": {},
   "outputs": [],
   "source": []
  }
 ],
 "metadata": {
  "kernelspec": {
   "display_name": "dask_tutorial",
   "language": "python",
   "name": "dask_tutorial"
  },
  "language_info": {
   "codemirror_mode": {
    "name": "ipython",
    "version": 3
   },
   "file_extension": ".py",
   "mimetype": "text/x-python",
   "name": "python",
   "nbconvert_exporter": "python",
   "pygments_lexer": "ipython3",
   "version": "3.9.5"
  }
 },
 "nbformat": 4,
 "nbformat_minor": 5
}
